{
 "cells": [
  {
   "cell_type": "markdown",
   "metadata": {},
   "source": [
    "# Modeling axial dispersion"
   ]
  },
  {
   "cell_type": "markdown",
   "metadata": {},
   "source": [
    "## Solve_bvp"
   ]
  },
  {
   "cell_type": "markdown",
   "metadata": {},
   "source": [
    "Until now we have looked at plug-flow reactors where we have assumed the 2nd order axial dispersion term to be constant. But what if we want to model axial dispersion? Axial dispersion can be very significant for instance in laboratory reactors where the reactor lenght is short in comparison to the size of a catalyst particle, or if we have laminar flow. Luckily, Scipy (and other scientific computing packages) has a solver that can do exactly this. It is called solve_bvp. But before we can use it, we have to manipulate our equation a bit.\n",
    "\n",
    "To make things more simple, let's assume 1st order chemical reaction so that $S = -kC$. Let's also assume constant temperature. In order to us\n",
    "First we have to rewrite the second order ODE as a system of first order ODEs. This is done by introducing a new variable $\\frac{dC}{dz}=C'$. Then we can rewrite the system as\n",
    "\\begin{align}\n",
    "\\frac{dC}{dz} &= C'\\\\\n",
    "\\frac{dC'}{dz} &= \\frac{uC'}{D}-\\frac{S}{D}\n",
    "\\end{align}\n",
    "Let's write $Y_1$ for $C$ and $Y_2$ for $C'$:\n",
    "\\begin{align}\n",
    "Y_1' &= Y_2\\\\\n",
    "Y_2' &= \\frac{uY_2}{D}-\\frac{S}{D}\n",
    "\\end{align}\n",
    "With a second order differential equation, it is not enough to specify the inlet concentrations as we did for the plug flow model. Instead we need to specify the boundary conditions at both boundaries. In practice, this can be a huge problem since in many cases the outlet boundary condition is not known. In chemical engineering, the Danckwerts boundary conditions are widely used.\n",
    "\\begin{align}\n",
    "Y_1\\left(0\\right) &= Y_0 + \\frac{D}{u}Y_2\\\\\n",
    "Y_2\\left(L\\right) &= 0\n",
    "\\end{align}\n",
    "Now let's think for a moment what this means. The second boundary condition is easy. It says that the 2nd derivative of the concentration profile is 0 at the exit of the reactor tube. Thus there is also no diffusion or axial dispersion at the outlet. And the first condition? It actually says that there is a discontinuity in the concentration profile at the reactor tube inlet. This means that concentration drops instantly."
   ]
  },
  {
   "cell_type": "code",
   "execution_count": 18,
   "metadata": {},
   "outputs": [
    {
     "data": {
      "image/png": "[encoded data removed]",
      "text/plain": [
       "<Figure size 432x288 with 1 Axes>"
      ]
     },
     "metadata": {
      "needs_background": "light"
     },
     "output_type": "display_data"
    }
   ],
   "source": [
    "# import the solve_bvp package\n",
    "from scipy.integrate import solve_bvp\n",
    "from scipy.integrate import solve_ivp\n",
    "import numpy as np\n",
    "import matplotlib.pyplot as plt\n",
    "\n",
    "# define the plug-flow reactor model with axial dispersion\n",
    "# note that this time, we have to use numpy arrays instead of lists\n",
    "def pfr_disp(z, C): \n",
    "    u = 4.\n",
    "    k = 10.    \n",
    "    return np.vstack((C[1], u*C[1]/D + k*C[0]/D))\n",
    "\n",
    "# define the function that calculates the residuals of the boundary conditions\n",
    "def pfr_bc(Ca, Cb):\n",
    "    u = 4.\n",
    "    C0 = 1.\n",
    "    return np.array([C0 - Ca[0] + D/u * Ca[1], Cb[1]])\n",
    "\n",
    "# let's calculate the value of the function at ten point between 0 and 1\n",
    "x = np.linspace(0, 1, 100)\n",
    "\n",
    "# we need to define the initial values for the whole domain\n",
    "C_init = np.zeros((2, x.size))\n",
    "\n",
    "# now the model can be solved\n",
    "D = 1.\n",
    "res = solve_bvp(pfr_disp, pfr_bc, x, C_init)\n",
    "\n",
    "# for comparison, let's also solve this problem with a different value for the axial dispersion coefficient.\n",
    "D = 5.\n",
    "res_2 = solve_bvp(pfr_disp, pfr_bc, x, C_init)\n",
    "\n",
    "# and finally for comparison, let's solve as plug-flow reactor (D = 0)\n",
    "def pfr_plug(z, C):\n",
    "    u = 4.\n",
    "    k = 10.\n",
    "    return -k * C / u\n",
    "\n",
    "res_comp = solve_ivp(pfr_plug, (0., 1.), [1.])\n",
    "\n",
    "plt.plot(res.x, res.y[0,:])\n",
    "plt.plot(res_2.x, res_2.y[0,:])\n",
    "plt.plot(res_comp.t, res_comp.y[0,:])\n",
    "plt.xlim((0., 1.0))\n",
    "plt.xlabel(\"z\")\n",
    "plt.ylabel(\"C\")\n",
    "plt.legend([\"D = 1\", \"D = 5\", \"D = 0\"])\n",
    "plt.show()"
   ]
  },
  {
   "cell_type": "markdown",
   "metadata": {},
   "source": [
    "Here we can observe how with increasing Dispersion coefficient D the concentration profile becomes more flat and also conversion of becomes less. Actually we can see that the two ideal reactors Plug flow reactor on the one hand and CSTR on the other hand are the limiting cases of the general reactor model with axial dispersion, for D = 0 and D = infinity, respectively.\n",
    "While this model can be solved with the solve_bvp solver, we see that it is not optimal for this kind of problem. First, we would like to get the plug-flow reactor solution when we substitute $D = 0$. But instead, we get a division by zero error."
   ]
  },
  {
   "cell_type": "code",
   "execution_count": 19,
   "metadata": {},
   "outputs": [
    {
     "name": "stderr",
     "output_type": "stream",
     "text": [
      "C:\\Users\\cheme\\Anaconda3\\lib\\site-packages\\ipykernel_launcher.py:12: RuntimeWarning: invalid value encountered in true_divide\n",
      "  if sys.path[0] == '':\n",
      "C:\\Users\\cheme\\Anaconda3\\lib\\site-packages\\ipykernel_launcher.py:12: RuntimeWarning: divide by zero encountered in true_divide\n",
      "  if sys.path[0] == '':\n"
     ]
    }
   ],
   "source": [
    "D = 0.\n",
    "res = solve_bvp(pfr_disp, pfr_bc, x, C_init)"
   ]
  },
  {
   "cell_type": "markdown",
   "metadata": {},
   "source": [
    "This is because the CSTR cannot be described with a differential equation; the equation for a CSTR is an algebraic equation since the concentration is assumed constant throughout the reactor:\n",
    "\n",
    "\\begin{equation}\n",
    "C_{out} = C_{in} - \\frac{Vr}{Q}\n",
    "\\end{equation}"
   ]
  },
  {
   "cell_type": "markdown",
   "metadata": {},
   "source": [
    "## Solution with finite differences"
   ]
  },
  {
   "cell_type": "markdown",
   "metadata": {},
   "source": [
    "As you could see in the previous paragraph, solving a reactor model with axial dispersion using solve_bvp is possible but it can be a little cumbersome. There are other numerical methods that can be employed. The first and obvious one is discretization. This approach is known as the Finite Difference Method. \n",
    "\n",
    "The idea behind finite differences can be seen immediately in the definition of a derivative:\n",
    "\n",
    "\\begin{equation}\n",
    "\\frac{d\\Psi}{dx} = lim \\frac{\\Psi(x+\\Delta x)-\\Psi (x)}{\\Delta x}\n",
    "\\end{equation}\n",
    "\n",
    "Using this definition, three approximations of the first spatial derivative that use neighboring points can be derived instantly. They are:\n",
    "\n",
    "Forward difference\n",
    "\\begin{equation}\n",
    "\\frac{d\\Psi}{dx} \\approx \\frac{\\Psi_{i+1}-\\Psi_i}{\\Delta x}\n",
    "\\end{equation}\n",
    "Backward difference or first order upwind\n",
    "\\begin{equation}\n",
    "\\frac{d\\Psi}{dx} \\approx \\frac{\\Psi_i-\\Psi_{i-1}}{\\Delta x}\n",
    "\\end{equation}\n",
    "Central difference\n",
    "\\begin{equation}\n",
    "\\frac{d\\Psi}{dx} \\approx \\frac{\\Psi_{i+1}-\\Psi_{i-1}}{2\\Delta x}\n",
    "\\end{equation}\n",
    "2nd derivatives can be approximated with:\n",
    "\\begin{equation}\n",
    "\\frac{d^2 \\Psi}{dx^2} \\approx \\frac{\\Psi_{i+1} - 2 \\Psi_i + \\Psi_{i-1}}{\\Delta x^2}\n",
    "\\end{equation}\n",
    "\n",
    "Higher-order schemes, both symmetric and asymmetric, can be derived easily from Taylor series expansions. The sum of the terms in the Taylor series that is dropped from the dischret representation of the derivative is called truncation error. The highest power of $\\frac{d\\Psi}{dz}$ that is retained is called method order.\n",
    "\n",
    "The forward and backward difference schemes are both first-order accurate. The central difference and other three point schemes are second order accurate (the point in the center cancels out in the equation). There are also schemes that use all the points in a domain. Those are called Spectral Methods and they are particularly useful in domains with periodic boundary conditions.\n",
    "\n",
    "The choice of the differencing scheme for the advection term inluences directly the numerical behavior of the system. First-order schemes suffer from heavy numerical diffusion, whereas higher-order schemes suffer from spurious oscillations in the vicinity of steep gradients.\n",
    "\n",
    "Another often used discretization scheme is the second order upwind scheme:\n",
    "\\begin{equation}\n",
    "\\frac{d\\Psi}{dx} \\approx \\frac{3\\Psi_{i}-4\\Psi_{i-1}+\\Psi_{i-2}}{2\\Delta x}\n",
    "\\end{equation}\n",
    "\n",
    "A major advantage of the finite difference method is that it can be written down in compact matrix notation. The discretized variable $\\Psi$ is written in the vector $\\vec{\\Psi}$. The scheme can be represented with matrix $\\mathbf{A}$. So the vector $\\vec{\\frac{d\\Psi}{dx}}$ can be written as:\n",
    "\n",
    "\\begin{equation}\n",
    "\\vec{\\frac{d\\Psi}{dx}} = \\mathbf{A}\\vec{\\Psi}\n",
    "\\end{equation}\n",
    "\n",
    "For a central difference for example, matrix A becomes:\n",
    "\\begin{equation*}\n",
    "\\mathbf{A} =  \\frac{1}{2\\Delta x}\\begin{vmatrix}\n",
    "-1 & 0 & 1 & 0 & 0 & ... \\\\\n",
    "0 & -1 & 0 & 1 & 0 & ... \\\\\n",
    "0 & 0 & -1 & 0 & 1 & ... \\\\\n",
    "... \n",
    "\\end{vmatrix}\n",
    "\\end{equation*}\n",
    "\n",
    "For the second derivative with central difference we define matrix B:\n",
    "\\begin{equation*}\n",
    "\\mathbf{B} =  \\frac{1}{\\Delta x^2}\\begin{vmatrix}\n",
    "1 & -2 & 1 & 0 & 0 & ... \\\\\n",
    "0 & 1 & -2 & 1 & 0 & ... \\\\\n",
    "0 & 0 & 1 & -2 & 1 & ... \\\\\n",
    "... \n",
    "\\end{vmatrix}\n",
    "\\end{equation*}\n",
    "\n",
    "So then the steady-state convection dispersion equation can be written as:\n",
    "\\begin{equation*}\n",
    "0 = \\left(-\\frac{u}{2\\Delta x}\\mathbf{A} + \\frac{D}{\\Delta x^2} \\mathbf{B} \\right) \\vec{\\Psi} + \\vec{S}\n",
    "\\end{equation*}\n",
    "\n",
    "This is an equation that can be solved (in the general case) with a nonlinear solver or with a linear solver if the source term itself is linear.\n",
    "\n",
    "But what about boundary conditions? Those are actually way easier to handle than you would think. Let's recall the Danckwerts boundary condition for the inlet:\n",
    "\n",
    "\\begin{equation*}\n",
    "\\Psi_{init} = \\Psi(z = 0) - \\frac{D}{u}\\frac{d\\Psi}{dz}\\left(z = 0\\right)\n",
    "\\end{equation*}\n",
    "\n",
    "Let's assume that there is one more \"imaginary\" grid point outside of the domain. Then let's look at the point at the inlet and insert the difference approximation for the derivative:\n",
    "\n",
    "\\begin{equation}\n",
    "\\Psi_{init} = \\Psi_0 - \\frac{D}{u}\\frac{\\Psi_{+1}-\\Psi_{-1}}{2\\Delta x}\n",
    "\\end{equation}\n",
    "\n",
    "Then we can rearrange and solve for the \"imaginary\" grid point $\\Psi_{-1}$:\n",
    "\n",
    "\\begin{equation}\n",
    "\\Psi_{-1} = \\Psi_{+1} + \\frac{2dxu}{D}(\\Psi_{init} - \\Psi_0)\n",
    "\\end{equation}\n",
    "\n",
    "If we use the 1st order upwind approximation then we get\n",
    "\n",
    "\\begin{equation}\n",
    "\\Psi_{-1} = \\Psi_{0} + \\frac{2dxu}{D}(\\Psi_{init} - \\Psi_0)\n",
    "\\end{equation}"
   ]
  },
  {
   "cell_type": "code",
   "execution_count": 2,
   "metadata": {},
   "outputs": [
    {
     "name": "stdout",
     "output_type": "stream",
     "text": [
      "[[-0.5  0.   0.5 ...  0.   0.   0. ]\n",
      " [ 0.  -0.5  0.  ...  0.   0.   0. ]\n",
      " [ 0.   0.  -0.5 ...  0.   0.   0. ]\n",
      " ...\n",
      " [ 0.   0.   0.  ...  0.5  0.   0. ]\n",
      " [ 0.   0.   0.  ...  0.   0.5  0. ]\n",
      " [ 0.   0.   0.  ... -0.5  0.   0.5]]\n",
      "[[-1.  1.  0. ...  0.  0.  0.]\n",
      " [ 0. -1.  1. ...  0.  0.  0.]\n",
      " [ 0.  0. -1. ...  0.  0.  0.]\n",
      " ...\n",
      " [ 0.  0.  0. ...  0.  0.  0.]\n",
      " [ 0.  0.  0. ...  1.  0.  0.]\n",
      " [ 0.  0.  0. ... -1.  1.  0.]]\n"
     ]
    }
   ],
   "source": [
    "# Let's try in Python\n",
    "import numpy as np\n",
    "\n",
    "points = 100\n",
    "\n",
    "# This function constructs the convection matrix for central difference\n",
    "def construct_conv_matrix_central_diff(points):\n",
    "    before = 1\n",
    "    after = 1\n",
    "    A = np.zeros(shape = (points, points+before+after))\n",
    "    a = -0.5\n",
    "    b = 0.\n",
    "    c = 0.5\n",
    "\n",
    "    for i in range(points):\n",
    "        for j in range(points+before+after):\n",
    "            if i + before == j:\n",
    "                A[i,j] = b\n",
    "                if j + 1 < points + before + after:\n",
    "                    A[i,j+1] = c\n",
    "                if j - 1 >= 0 :\n",
    "                    A[i,j-1] = a\n",
    "    return A\n",
    "\n",
    "# This function constructs the convection matrix for 1st order upwind\n",
    "def construct_conv_matrix_upwind(points):\n",
    "    before = 1\n",
    "    after = 1\n",
    "    A = np.zeros(shape = (points, points + before + after))\n",
    "    a = -1.\n",
    "    b = 1.\n",
    "    c = 0.\n",
    "\n",
    "    for i in range(points):\n",
    "        for j in range(points + before + after):\n",
    "            if i + before == j:\n",
    "                A[i,j] = b\n",
    "                if j + 1 < points + before + after:\n",
    "                    A[i,j+1] = c\n",
    "                if j - 1 >= 0 :\n",
    "                    A[i,j-1] = a\n",
    "    return A\n",
    "\n",
    "A = construct_conv_matrix_central_diff(points)\n",
    "A_2 = construct_conv_matrix_upwind(points)\n",
    "\n",
    "print(A)\n",
    "print(A_2)"
   ]
  },
  {
   "cell_type": "code",
   "execution_count": 3,
   "metadata": {},
   "outputs": [
    {
     "name": "stdout",
     "output_type": "stream",
     "text": [
      "[[-0.5  0.   0.5 ...  0.   0.   0. ]\n",
      " [ 0.  -0.5  0.  ...  0.   0.   0. ]\n",
      " [ 0.   0.  -0.5 ...  0.   0.   0. ]\n",
      " ...\n",
      " [ 0.   0.   0.  ...  0.5  0.   0. ]\n",
      " [ 0.   0.   0.  ...  0.   0.5  0. ]\n",
      " [ 0.   0.   0.  ... -0.5  0.   0.5]]\n"
     ]
    },
    {
     "data": {
      "text/plain": [
       "(100, 102)"
      ]
     },
     "execution_count": 3,
     "metadata": {},
     "output_type": "execute_result"
    }
   ],
   "source": [
    "# This function constructs the matrix for the 2nd derivative\n",
    "def construct_diff_matrix_central_diff(points):\n",
    "    before = 1\n",
    "    after = 1\n",
    "    B = np.zeros(shape = (points, points+before+after))\n",
    "    a = 1.\n",
    "    b = -2.\n",
    "    c = 1.\n",
    "\n",
    "    for i in range(points):\n",
    "        for j in range(points+before+after):\n",
    "            if i + before == j:\n",
    "                B[i,j] = b\n",
    "                if j + 1 < points+before+after:\n",
    "                    B[i,j+1] = c\n",
    "                if j - 1 >= 0 :\n",
    "                    B[i,j-1] = a\n",
    "    \n",
    "    return B\n",
    "\n",
    "B = construct_conv_matrix_central_diff(points)\n",
    "print(B)\n",
    "B.shape"
   ]
  },
  {
   "cell_type": "code",
   "execution_count": 9,
   "metadata": {},
   "outputs": [
    {
     "data": {
      "image/png": "[encoded data removed]",
      "text/plain": [
       "<Figure size 432x288 with 1 Axes>"
      ]
     },
     "metadata": {
      "needs_background": "light"
     },
     "output_type": "display_data"
    }
   ],
   "source": [
    "# we are going to use the solve function from the scipy.linalg package\n",
    "from scipy.linalg import solve\n",
    "\n",
    "y0 = 1.0\n",
    "\n",
    "# avoid the fencepost error!\n",
    "dx = 1./(points-1)\n",
    "k = 10.\n",
    "u = 4.\n",
    "D = 5.\n",
    "\n",
    "def construct_linear_matrix(u, D, k, y0, points, dx, method = 1):\n",
    "    # method = 1: central difference\n",
    "    # method = 2: 1st order upwind\n",
    "    \n",
    "    if method != 1:\n",
    "        A = construct_conv_matrix_upwind(points)\n",
    "    else:\n",
    "        A = construct_conv_matrix_central_diff(points)\n",
    "        \n",
    "    B = construct_diff_matrix_central_diff(points)\n",
    "    \n",
    "    matrix = -u*A/dx + D*B/dx**2\n",
    "    rates = np.eye(points + 2) * k\n",
    "    rates[0,0] = 0.0\n",
    "    rates[-1,-1] = 0.0\n",
    "    first_row = np.zeros(shape = (points + 2))\n",
    "    last_row = np.zeros(shape = (points + 2))\n",
    "    \n",
    "    if method != 1:\n",
    "        first_row[0] = 1.\n",
    "        first_row[1] = dx*u/D - 1.\n",
    "    else:\n",
    "        first_row[0] = 1.\n",
    "        first_row[1] = 2.*dx*u/D\n",
    "        first_row[2] = -1.\n",
    "        \n",
    "    last_row[-3] = -1.\n",
    "    last_row[-1] = 1.\n",
    "    matrix = np.vstack((first_row, matrix, last_row))\n",
    "    matrix = matrix - rates\n",
    "    # vector on the right hand side of the equation\n",
    "    rhs = np.zeros(shape = (points + 2))\n",
    "    \n",
    "    if method != 1:\n",
    "        rhs[0] = dx*u/D * y0\n",
    "    else:\n",
    "        rhs[0] = 2.*dx*u/D * y0\n",
    "    \n",
    "    return matrix, rhs\n",
    "\n",
    "# Let's plot solutions for two different Ds\n",
    "k = 10.\n",
    "u = 4.\n",
    "D = 5.\n",
    "matrix, rhs = construct_linear_matrix(u, D, k, y0, points, dx)\n",
    "C_lin = solve(matrix, rhs)\n",
    "C_fin = C_lin[1:-1]\n",
    "\n",
    "k = 10.\n",
    "u = 4.\n",
    "D = 1.\n",
    "matrix, rhs = construct_linear_matrix(u, D, k, y0, points, dx)\n",
    "C_lin = solve(matrix, rhs)\n",
    "C_fin_1 = C_lin[1:-1]\n",
    "\n",
    "# A small function to help plot the results\n",
    "def plot_profiles(concs, points, legend):\n",
    "    x = np.linspace(0, 1, num = points)\n",
    "    for C in concs:\n",
    "        plt.plot(x, C)\n",
    "    plt.xlim((0., 1.0))\n",
    "    plt.ylim((0., 1.0))\n",
    "    plt.xlabel(\"z\")\n",
    "    plt.ylabel(\"C\")\n",
    "    plt.legend(legend)\n",
    "    \n",
    "plot_profiles([C_fin, C_fin_1], points, [\"D = 5\", \"D = 1\"])"
   ]
  },
  {
   "cell_type": "markdown",
   "metadata": {},
   "source": [
    "Let's try to compare the error between central difference and upwind difference. We have to go quite coarse on the grid to actually see a difference with these variables."
   ]
  },
  {
   "cell_type": "code",
   "execution_count": 11,
   "metadata": {},
   "outputs": [
    {
     "data": {
      "image/png": "[encoded data removed]",
      "text/plain": [
       "<Figure size 432x288 with 1 Axes>"
      ]
     },
     "metadata": {
      "needs_background": "light"
     },
     "output_type": "display_data"
    }
   ],
   "source": [
    "k = 10.\n",
    "u = 4.\n",
    "D = 0.1\n",
    "points = 20\n",
    "dx = 1/(points - 1)\n",
    "matrix, rhs = construct_linear_matrix(u, D, k, y0, points, dx)\n",
    "C_lin = solve(matrix, rhs)\n",
    "C_central = C_lin[1:-1]\n",
    "\n",
    "matrix, rhs = construct_linear_matrix(u, D, k, y0, points, dx, 2)\n",
    "C_lin = solve(matrix, rhs)\n",
    "C_upwind = C_lin[1:-1]\n",
    "\n",
    "plot_profiles([C_central, C_upwind], points, [\"Central difference\", \"Upwind\"])"
   ]
  },
  {
   "cell_type": "markdown",
   "metadata": {},
   "source": [
    "If we have a reaction A -> B, we of course need to add the 2nd component to our system and the matrix becomes increasingly sparse."
   ]
  },
  {
   "cell_type": "code",
   "execution_count": 13,
   "metadata": {},
   "outputs": [
    {
     "data": {
      "image/png": "[encoded data removed]",
      "text/plain": [
       "<Figure size 432x288 with 1 Axes>"
      ]
     },
     "metadata": {
      "needs_background": "light"
     },
     "output_type": "display_data"
    }
   ],
   "source": [
    "k = 10\n",
    "y0_A = 1.0\n",
    "y0_B = 0.0\n",
    "\n",
    "def construct_convdiff_matrix(u, D, y0, points):\n",
    "    A = construct_conv_matrix_central_diff(points)\n",
    "    B = construct_diff_matrix_central_diff(points)\n",
    "    matrix = -u*A/(2.*dx) + D*B/dx**2\n",
    "    first_row = np.zeros(shape = (points + 2))\n",
    "    last_row = np.zeros(shape = (points + 2))\n",
    "    first_row[0] = 1\n",
    "    first_row[1] = 2*dx*u/D\n",
    "    first_row[2] = -1\n",
    "    last_row[-3] = -1\n",
    "    last_row[-1] = 1\n",
    "    matrix = np.vstack((first_row, matrix, last_row))\n",
    "    # vector on the right hand side of the equation\n",
    "    rhs = np.zeros(shape = (points + 2))\n",
    "    rhs[0] = 2*dx*u/D * y0\n",
    "    return matrix, rhs\n",
    "\n",
    "def construct_rates_matrix(k, points):\n",
    "    rates = np.eye(points + 2) * k\n",
    "    rates[0,0] = 0.0\n",
    "    rates[-1,-1] = 0.0\n",
    "    return rates\n",
    "\n",
    "matrix_A, rhs_A = construct_convdiff_matrix(u, D, y0_A, points)\n",
    "matrix_B, rhs_B = construct_convdiff_matrix(u, D, y0_B, points)\n",
    "rates_A = construct_rates_matrix(k, points)\n",
    "zeros = np.zeros(matrix_A.shape)\n",
    "matrix_all = np.vstack((np.hstack((matrix_A - rates_A, zeros)), np.hstack((rates_A, matrix_B))))\n",
    "rhs_all = np.hstack((rhs_A, rhs_B))\n",
    "C_lin = solve(matrix_all, rhs_all)\n",
    "\n",
    "C_fin_A = C_lin[1:points+1]\n",
    "C_fin_B = C_lin[points+3:-1]\n",
    "\n",
    "plot_profiles([C_fin_A, C_fin_B], points, [\"A\", \"B\"])"
   ]
  },
  {
   "cell_type": "markdown",
   "metadata": {},
   "source": [
    "Now we have seen some linear profiles. Next let's try a nonlinear reaction. Here we use a nonlinear solver the solve the system of equations."
   ]
  },
  {
   "cell_type": "code",
   "execution_count": 17,
   "metadata": {},
   "outputs": [
    {
     "data": {
      "image/png": "[encoded data removed]",
      "text/plain": [
       "<Figure size 432x288 with 1 Axes>"
      ]
     },
     "metadata": {
      "needs_background": "light"
     },
     "output_type": "display_data"
    }
   ],
   "source": [
    "# The nonlinear solver fsolve is imported from scipy.optimize\n",
    "from scipy.optimize import fsolve\n",
    "\n",
    "def pfr_discr(y, A, B, dx, k, u, D, y0):\n",
    "    length = y.shape[0] + 2\n",
    "    ydot = np.ndarray(shape = (length))\n",
    "    ydot[1:-1] = y\n",
    "    ydot[0] = ydot[2] + 2.*dx*u/D*(y0 - ydot[1])\n",
    "    ydot[-1] = y[-3]\n",
    "    res = np.dot((-u*A/(2.*dx) + D*B/dx**2), ydot) - k*y**2\n",
    "    return res\n",
    "\n",
    "y0 = 1.0\n",
    "y_init = np.zeros(shape = (points))\n",
    "\n",
    "dx = 1./(points-1)\n",
    "k = 10.\n",
    "u = 4.\n",
    "D = 1.\n",
    "\n",
    "A = construct_conv_matrix_central_diff(points)\n",
    "B = construct_diff_matrix_central_diff(points)\n",
    "\n",
    "args = (A, B, dx, k, u, D, y0)\n",
    "C = fsolve(pfr_discr, y_init, args)\n",
    "\n",
    "D = 5.\n",
    "args = (A, B, dx, k, u, D, y0)\n",
    "C2 = fsolve(pfr_discr, y_init, args)\n",
    "\n",
    "plot_profiles([C, C2], points, [\"D = 1\", \"D = 5\"])"
   ]
  }
 ],
 "metadata": {
  "kernelspec": {
   "display_name": "Python 3",
   "language": "python",
   "name": "python3"
  },
  "language_info": {
   "codemirror_mode": {
    "name": "ipython",
    "version": 3
   },
   "file_extension": ".py",
   "mimetype": "text/x-python",
   "name": "python",
   "nbconvert_exporter": "python",
   "pygments_lexer": "ipython3",
   "version": "3.7.3"
  }
 },
 "nbformat": 4,
 "nbformat_minor": 4
}
